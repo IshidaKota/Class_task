{
 "cells": [
  {
   "cell_type": "code",
   "execution_count": 2,
   "id": "18c3bf10",
   "metadata": {},
   "outputs": [],
   "source": [
    "import numpy as np\n",
    "import scipy as sp\n",
    "import math"
   ]
  },
  {
   "cell_type": "code",
   "execution_count": 3,
   "id": "dc6712e0",
   "metadata": {},
   "outputs": [],
   "source": [
    "T = 10\n",
    "h = 2"
   ]
  },
  {
   "cell_type": "code",
   "execution_count": 17,
   "id": "9a520ccf",
   "metadata": {},
   "outputs": [],
   "source": [
    "def Newton(h,T):\n",
    "    g = 9.801\n",
    "    omega = 2 * np.pi / T\n",
    "    x = [h * (omega **2)/g];diff = 1\n",
    "    i = 0\n",
    "    while abs(diff) >1e-7:\n",
    "        res = x[i] - (x[i]*math.tanh(x[i])-x[0])/(math.tanh(x[i])+(x[i]/((math.cosh(x[i]))**2)))\n",
    "        x.append(res)\n",
    "        diff = x[i+1]-x[i]\n",
    "        i+=1\n",
    "    return x[-1]"
   ]
  },
  {
   "cell_type": "code",
   "execution_count": 26,
   "id": "ec0ed250",
   "metadata": {},
   "outputs": [
    {
     "name": "stdout",
     "output_type": "stream",
     "text": [
      "0.6283185307179586 3.109624102568169\n",
      "0.6283185307179586 6.764723464916024\n",
      "0.6283185307179586 9.232535682413154\n",
      "0.6283185307179586 15.588933615649447\n",
      "0.6283185307179586 15.598775972436664\n"
     ]
    }
   ],
   "source": [
    "for h in [1,5,10,100,1000]:\n",
    "    kh = Newton(h,10)\n",
    "    k = kh/h\n",
    "    omega = 2 * np.pi /10\n",
    "    c = omega/k\n",
    "    print(omega,c)\n",
    "    "
   ]
  },
  {
   "cell_type": "code",
   "execution_count": 24,
   "id": "86562586",
   "metadata": {},
   "outputs": [
    {
     "name": "stdout",
     "output_type": "stream",
     "text": [
      "3.1306548835666956 15.598775972436663\n",
      "7.000357133746821 15.598775972436663\n",
      "9.9 15.598775972436663\n",
      "31.306548835666955 15.598775972436663\n",
      "99.0 15.598775972436663\n"
     ]
    }
   ],
   "source": [
    "for h in [1,5,10,100,1000]:\n",
    "    c = math.sqrt(g*h)\n",
    "    c0 = g * 10/(2*np.pi)\n",
    "    print(c,c0)"
   ]
  },
  {
   "cell_type": "code",
   "execution_count": 30,
   "id": "9cfffc67",
   "metadata": {},
   "outputs": [
    {
     "data": {
      "text/plain": [
       "1.779677099449178"
      ]
     },
     "execution_count": 30,
     "metadata": {},
     "output_type": "execute_result"
    }
   ],
   "source": [
    "kh = Newton(5,4)\n",
    "2 * np.pi * kh/5"
   ]
  },
  {
   "cell_type": "code",
   "execution_count": 31,
   "id": "c4a2e9e4",
   "metadata": {},
   "outputs": [
    {
     "data": {
      "text/plain": [
       "0.4449"
      ]
     },
     "execution_count": 31,
     "metadata": {},
     "output_type": "execute_result"
    }
   ],
   "source": [
    "1.7796/4"
   ]
  },
  {
   "cell_type": "code",
   "execution_count": 32,
   "id": "c7c2d178",
   "metadata": {},
   "outputs": [],
   "source": [
    "H = 0.449 * 0.449 * 2.8 /4 /np.pi/np.pi"
   ]
  },
  {
   "cell_type": "code",
   "execution_count": 33,
   "id": "da3f9977",
   "metadata": {},
   "outputs": [
    {
     "data": {
      "text/plain": [
       "0.014298516360435255"
      ]
     },
     "execution_count": 33,
     "metadata": {},
     "output_type": "execute_result"
    }
   ],
   "source": [
    "H"
   ]
  },
  {
   "cell_type": "code",
   "execution_count": 34,
   "id": "d94377a4",
   "metadata": {},
   "outputs": [],
   "source": [
    "umax = H *np.pi * math.cosh(2 * kh/5)/4/math.sinh(5 * kh/5)"
   ]
  },
  {
   "cell_type": "code",
   "execution_count": 35,
   "id": "03e74a8f",
   "metadata": {},
   "outputs": [
    {
     "data": {
      "text/plain": [
       "0.0067445287603348746"
      ]
     },
     "execution_count": 35,
     "metadata": {},
     "output_type": "execute_result"
    }
   ],
   "source": [
    "umax"
   ]
  },
  {
   "cell_type": "code",
   "execution_count": 43,
   "id": "74cf3592",
   "metadata": {},
   "outputs": [
    {
     "data": {
      "text/plain": [
       "151.26373349999997"
      ]
     },
     "execution_count": 43,
     "metadata": {},
     "output_type": "execute_result"
    }
   ],
   "source": [
    "pho = 1.0289 * 10 **3\n",
    "right = pho * g * 1.5 /100\n",
    "right"
   ]
  },
  {
   "cell_type": "code",
   "execution_count": 47,
   "id": "1a496ae3",
   "metadata": {},
   "outputs": [
    {
     "name": "stdout",
     "output_type": "stream",
     "text": [
      "[5.71041605]\n"
     ]
    }
   ],
   "source": [
    "import scipy.optimize\n",
    "\n",
    "def f(x):\n",
    "    return np.cosh(x) - 151\n",
    "\n",
    "sol = scipy.optimize.root(f, x0=10)\n",
    "print(sol.x)"
   ]
  },
  {
   "cell_type": "code",
   "execution_count": 48,
   "id": "744de0b9",
   "metadata": {},
   "outputs": [],
   "source": [
    "k = 4 * np.pi * np.pi /81/g/np.tanh(sol.x)"
   ]
  },
  {
   "cell_type": "code",
   "execution_count": 49,
   "id": "33d9a1bd",
   "metadata": {},
   "outputs": [
    {
     "data": {
      "text/plain": [
       "array([0.04972947])"
      ]
     },
     "execution_count": 49,
     "metadata": {},
     "output_type": "execute_result"
    }
   ],
   "source": [
    "k"
   ]
  },
  {
   "cell_type": "code",
   "execution_count": 50,
   "id": "1e3efab1",
   "metadata": {},
   "outputs": [],
   "source": [
    "h = sol.x[0]/k[0]"
   ]
  },
  {
   "cell_type": "code",
   "execution_count": 51,
   "id": "afbf2091",
   "metadata": {},
   "outputs": [
    {
     "data": {
      "text/plain": [
       "114.82961243837718"
      ]
     },
     "execution_count": 51,
     "metadata": {},
     "output_type": "execute_result"
    }
   ],
   "source": [
    "h"
   ]
  },
  {
   "cell_type": "code",
   "execution_count": 53,
   "id": "42e2a84e",
   "metadata": {},
   "outputs": [
    {
     "data": {
      "text/plain": [
       "606.4804098083374"
      ]
     },
     "execution_count": 53,
     "metadata": {},
     "output_type": "execute_result"
    }
   ],
   "source": [
    "#C\n",
    "L = 9 * g *12 *60 *60 /2 /np.pi\n",
    "L/1000"
   ]
  },
  {
   "cell_type": "code",
   "execution_count": null,
   "id": "803ba3ca",
   "metadata": {},
   "outputs": [],
   "source": []
  }
 ],
 "metadata": {
  "kernelspec": {
   "display_name": "Python 3 (ipykernel)",
   "language": "python",
   "name": "python3"
  },
  "language_info": {
   "codemirror_mode": {
    "name": "ipython",
    "version": 3
   },
   "file_extension": ".py",
   "mimetype": "text/x-python",
   "name": "python",
   "nbconvert_exporter": "python",
   "pygments_lexer": "ipython3",
   "version": "3.10.6"
  }
 },
 "nbformat": 4,
 "nbformat_minor": 5
}
